{
 "cells": [
  {
   "cell_type": "markdown",
   "metadata": {},
   "source": [
    "# Search CVs for Keywords"
   ]
  },
  {
   "cell_type": "markdown",
   "metadata": {},
   "source": [
    "## Import Things"
   ]
  },
  {
   "cell_type": "code",
   "execution_count": 1,
   "metadata": {
    "ExecuteTime": {
     "end_time": "2020-09-29T15:50:26.787309Z",
     "start_time": "2020-09-29T15:50:26.431268Z"
    }
   },
   "outputs": [],
   "source": [
    "from pdfminer.high_level import extract_text\n",
    "import pandas as pd\n",
    "import os"
   ]
  },
  {
   "cell_type": "markdown",
   "metadata": {},
   "source": [
    "## Setup"
   ]
  },
  {
   "cell_type": "markdown",
   "metadata": {},
   "source": [
    "### Enter Directory for CVs"
   ]
  },
  {
   "cell_type": "code",
   "execution_count": 2,
   "metadata": {
    "ExecuteTime": {
     "end_time": "2020-09-29T15:50:26.791156Z",
     "start_time": "2020-09-29T15:50:26.788974Z"
    }
   },
   "outputs": [],
   "source": [
    "cvPath = 'cvs/'"
   ]
  },
  {
   "cell_type": "markdown",
   "metadata": {},
   "source": [
    "### Enter Keywords\n",
    "Put in single quotes '' and separate with commas"
   ]
  },
  {
   "cell_type": "code",
   "execution_count": 3,
   "metadata": {
    "ExecuteTime": {
     "end_time": "2020-09-29T15:50:26.795458Z",
     "start_time": "2020-09-29T15:50:26.793107Z"
    }
   },
   "outputs": [],
   "source": [
    "keywords = ['Education','School','Achievement','College','Classroom',\n",
    "            'Teacher']"
   ]
  },
  {
   "cell_type": "markdown",
   "metadata": {},
   "source": [
    "### Name Output File"
   ]
  },
  {
   "cell_type": "code",
   "execution_count": 4,
   "metadata": {
    "ExecuteTime": {
     "end_time": "2020-09-29T15:50:26.799326Z",
     "start_time": "2020-09-29T15:50:26.797160Z"
    }
   },
   "outputs": [],
   "source": [
    "outName = 'dania_search_issue_5'"
   ]
  },
  {
   "cell_type": "markdown",
   "metadata": {},
   "source": [
    "## Read CVs & Create Data Frame"
   ]
  },
  {
   "cell_type": "code",
   "execution_count": 5,
   "metadata": {
    "ExecuteTime": {
     "end_time": "2020-09-29T15:51:36.706809Z",
     "start_time": "2020-09-29T15:50:26.800976Z"
    }
   },
   "outputs": [],
   "source": [
    "cv_data = [[fname] + \n",
    "           [extract_text(os.path.join(cvPath, fname)).count(kw) \n",
    "            for kw in keywords]\n",
    "           for fname in os.listdir(cvPath)\n",
    "           if fname.endswith('.pdf')]"
   ]
  },
  {
   "cell_type": "code",
   "execution_count": 6,
   "metadata": {
    "ExecuteTime": {
     "end_time": "2020-09-29T15:51:36.718816Z",
     "start_time": "2020-09-29T15:51:36.708377Z"
    }
   },
   "outputs": [],
   "source": [
    "df = pd.DataFrame(cv_data, columns = ['File'] + keywords)"
   ]
  },
  {
   "cell_type": "markdown",
   "metadata": {},
   "source": [
    "## Export to CSV"
   ]
  },
  {
   "cell_type": "code",
   "execution_count": 7,
   "metadata": {
    "ExecuteTime": {
     "end_time": "2020-09-29T15:51:36.727267Z",
     "start_time": "2020-09-29T15:51:36.720880Z"
    }
   },
   "outputs": [],
   "source": [
    "df.to_csv('output/' + outName + '.csv', index = False)"
   ]
  },
  {
   "cell_type": "markdown",
   "metadata": {},
   "source": [
    "## Export Script"
   ]
  },
  {
   "cell_type": "code",
   "execution_count": 8,
   "metadata": {
    "ExecuteTime": {
     "end_time": "2020-09-29T15:51:39.042827Z",
     "start_time": "2020-09-29T15:51:36.730798Z"
    }
   },
   "outputs": [],
   "source": [
    "%%capture\n",
    "!jupyter nbconvert --to script read_cvs.ipynb\n",
    "\n",
    "# remove code that is not recognized by Python\n",
    "code = open('read_cvs.py','r').readlines()\n",
    "for i,line in enumerate(code):\n",
    "    if line.startswith('get_ipython') or line.startswith('# In['):\n",
    "        code[i] = ''\n",
    "out = open('read_cvs.py','w')\n",
    "out.writelines(code)\n",
    "out.close()"
   ]
  }
 ],
 "metadata": {
  "kernelspec": {
   "display_name": "Python 3",
   "language": "python",
   "name": "python3"
  },
  "language_info": {
   "codemirror_mode": {
    "name": "ipython",
    "version": 3
   },
   "file_extension": ".py",
   "mimetype": "text/x-python",
   "name": "python",
   "nbconvert_exporter": "python",
   "pygments_lexer": "ipython3",
   "version": "3.8.5"
  },
  "toc": {
   "base_numbering": 1,
   "nav_menu": {},
   "number_sections": false,
   "sideBar": true,
   "skip_h1_title": true,
   "title_cell": "Table of Contents",
   "title_sidebar": "Contents",
   "toc_cell": false,
   "toc_position": {},
   "toc_section_display": true,
   "toc_window_display": false
  },
  "varInspector": {
   "cols": {
    "lenName": 16,
    "lenType": 16,
    "lenVar": 40
   },
   "kernels_config": {
    "python": {
     "delete_cmd_postfix": "",
     "delete_cmd_prefix": "del ",
     "library": "var_list.py",
     "varRefreshCmd": "print(var_dic_list())"
    },
    "r": {
     "delete_cmd_postfix": ") ",
     "delete_cmd_prefix": "rm(",
     "library": "var_list.r",
     "varRefreshCmd": "cat(var_dic_list()) "
    }
   },
   "types_to_exclude": [
    "module",
    "function",
    "builtin_function_or_method",
    "instance",
    "_Feature"
   ],
   "window_display": false
  }
 },
 "nbformat": 4,
 "nbformat_minor": 4
}
